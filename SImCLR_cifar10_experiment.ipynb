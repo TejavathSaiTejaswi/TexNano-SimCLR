{
  "cells": [
    {
      "cell_type": "code",
      "execution_count": 1,
      "metadata": {
        "id": "kNrs7vZwSNTS"
      },
      "outputs": [],
      "source": [
        "!mkdir /content/saved_models"
      ]
    },
    {
      "cell_type": "markdown",
      "metadata": {
        "id": "4DW6a6Y8hWtT"
      },
      "source": [
        "# Imports and Utility functions"
      ]
    },
    {
      "cell_type": "markdown",
      "metadata": {
        "id": "AYyIZ6dphbN8"
      },
      "source": [
        "## <font color='orange'>Imports</font>"
      ]
    },
    {
      "cell_type": "code",
      "execution_count": 2,
      "metadata": {
        "id": "caWtyJW40H3k"
      },
      "outputs": [],
      "source": [
        "#!pip3 install tensorboard --upgrade"
      ]
    },
    {
      "cell_type": "code",
      "execution_count": 3,
      "metadata": {
        "id": "iKt9Ktkeb8iL"
      },
      "outputs": [],
      "source": [
        "import os\n",
        "os.environ[\"PYTORCH_CUDA_ALLOC_CONF\"] = \"max_split_size_mb:16000\""
      ]
    },
    {
      "cell_type": "code",
      "execution_count": 4,
      "metadata": {
        "id": "yQrK-eB3mBAC"
      },
      "outputs": [],
      "source": [
        "import numpy as np\n",
        "import pandas as pd\n",
        "import shutil, time, os, requests, random, copy\n",
        "from itertools import permutations\n",
        "import seaborn as sns\n",
        "import imageio\n",
        "from skimage.transform import rotate, AffineTransform, warp, resize\n",
        "#import skvideo.io as vidio\n",
        "#from google.colab.patches import cv2_imshow\n",
        "from IPython.display import clear_output, Image, SVG\n",
        "import h5py\n",
        "#from tabulate import tabulate\n",
        "\n",
        "import torch\n",
        "import torch.nn as nn\n",
        "import torch.nn.functional as tF\n",
        "import torch.optim as optim\n",
        "from torch.utils.data import Dataset, DataLoader\n",
        "import torchvision.datasets as dset\n",
        "from torchvision import datasets, transforms, models\n",
        "#from torchviz import make_dot\n",
        "#from torchsummary import summary\n",
        "\n",
        "from sklearn.utils import shuffle\n",
        "from sklearn.metrics import classification_report, confusion_matrix, roc_curve, auc, f1_score\n",
        "from sklearn.metrics import average_precision_score, precision_recall_curve, roc_auc_score, accuracy_score\n",
        "from sklearn.utils.class_weight import compute_class_weight\n",
        "from sklearn.model_selection import train_test_split\n",
        "\n",
        "import matplotlib.pyplot as plt\n",
        "#import matplotlib.animation as animation\n",
        "%matplotlib inline"
      ]
    },
    {
      "cell_type": "code",
      "execution_count": 5,
      "metadata": {
        "id": "j7ttFTj6pl_T"
      },
      "outputs": [],
      "source": [
        "# from torchvision.models.utils import load_state_dict_from_url\n",
        "from torch.hub import load_state_dict_from_url\n",
        "from typing import Type, Any, Callable, Union, List, Optional\n",
        "from torch import Tensor\n",
        "from collections import OrderedDict"
      ]
    },
    {
      "cell_type": "code",
      "execution_count": 6,
      "metadata": {
        "id": "lfdo-DDzQ9LD"
      },
      "outputs": [],
      "source": [
        "from sklearn.manifold import TSNE"
      ]
    },
    {
      "cell_type": "code",
      "execution_count": 7,
      "metadata": {
        "id": "zziaDy3rpl_T"
      },
      "outputs": [],
      "source": [
        "def set_seed(seed = 16):\n",
        "    np.random.seed(16)\n",
        "    torch.manual_seed(16)"
      ]
    },
    {
      "cell_type": "markdown",
      "metadata": {
        "id": "qhz7ofsF1QoX"
      },
      "source": [
        "#### CIFAR 10"
      ]
    },
    {
      "cell_type": "code",
      "execution_count": 8,
      "metadata": {
        "colab": {
          "base_uri": "https://localhost:8080/"
        },
        "id": "JJONIwKjpl_X",
        "outputId": "88b3a08b-16a7-4237-f1ad-b8c3b82f2046"
      },
      "outputs": [
        {
          "output_type": "stream",
          "name": "stdout",
          "text": [
            "--2024-02-29 22:41:56--  https://www.cs.toronto.edu/~kriz/cifar-10-python.tar.gz\n",
            "Resolving www.cs.toronto.edu (www.cs.toronto.edu)... 128.100.3.30\n",
            "Connecting to www.cs.toronto.edu (www.cs.toronto.edu)|128.100.3.30|:443... connected.\n",
            "HTTP request sent, awaiting response... 200 OK\n",
            "Length: 170498071 (163M) [application/x-gzip]\n",
            "Saving to: ‘cifar-10-python.tar.gz’\n",
            "\n",
            "cifar-10-python.tar 100%[===================>] 162.60M  85.4MB/s    in 1.9s    \n",
            "\n",
            "2024-02-29 22:41:58 (85.4 MB/s) - ‘cifar-10-python.tar.gz’ saved [170498071/170498071]\n",
            "\n"
          ]
        }
      ],
      "source": [
        "!wget https://www.cs.toronto.edu/~kriz/cifar-10-python.tar.gz"
      ]
    },
    {
      "cell_type": "code",
      "execution_count": 9,
      "metadata": {
        "id": "8sbhYkUDMnon"
      },
      "outputs": [],
      "source": [
        "!tar -xf /content/cifar-10-python.tar.gz"
      ]
    },
    {
      "cell_type": "code",
      "execution_count": 10,
      "metadata": {
        "id": "--hbMxr3Mn1g"
      },
      "outputs": [],
      "source": [
        "import pickle\n",
        "def unpickle(file):\n",
        "    with open(file, 'rb') as fo:\n",
        "        dict = pickle.load(fo, encoding='bytes')\n",
        "    return dict"
      ]
    },
    {
      "cell_type": "code",
      "execution_count": 11,
      "metadata": {
        "colab": {
          "base_uri": "https://localhost:8080/"
        },
        "id": "yWp44kBgMn9D",
        "outputId": "1e852c5b-ca54-4f34-b9b5-be077544de1f"
      },
      "outputs": [
        {
          "output_type": "stream",
          "name": "stdout",
          "text": [
            "(50000, 3072) (50000,)\n"
          ]
        }
      ],
      "source": [
        "train_files = ['data_batch_1','data_batch_2','data_batch_3','data_batch_4','data_batch_5']\n",
        "images = np.array([],dtype=np.uint8).reshape((0,3072))\n",
        "labels = np.array([])\n",
        "for tf in train_files:\n",
        "    data_dict = unpickle('/content/cifar-10-batches-py/'+tf)\n",
        "    data = data_dict[b'data']\n",
        "\n",
        "    images = np.append(images,data,axis=0)\n",
        "    labels = np.append(labels,data_dict[b'labels'])\n",
        "print(images.shape, labels.shape)"
      ]
    },
    {
      "cell_type": "code",
      "execution_count": 12,
      "metadata": {
        "colab": {
          "base_uri": "https://localhost:8080/"
        },
        "id": "gKO0K3hFMoEe",
        "outputId": "2a2aafc6-da73-4455-c8d7-a441a1c0bdc5"
      },
      "outputs": [
        {
          "output_type": "stream",
          "name": "stdout",
          "text": [
            "(10000, 3072) (10000,)\n"
          ]
        }
      ],
      "source": [
        "testimages = np.array([],dtype=np.uint8).reshape((0,3072))\n",
        "testlabels = np.array([])\n",
        "\n",
        "data_dict = unpickle('/content/cifar-10-batches-py/test_batch')\n",
        "# print(data_dict)\n",
        "data = data_dict[b'data']\n",
        "testimages = np.append(testimages,data,axis=0)\n",
        "testlabels = np.append(testlabels,data_dict[b'labels'])\n",
        "print(testimages.shape, testlabels.shape)"
      ]
    },
    {
      "cell_type": "code",
      "execution_count": 13,
      "metadata": {
        "colab": {
          "base_uri": "https://localhost:8080/"
        },
        "id": "7nUOYZFEMoLz",
        "outputId": "0bfe628f-5316-470c-eafd-355965d2a85f"
      },
      "outputs": [
        {
          "output_type": "stream",
          "name": "stdout",
          "text": [
            "(50000, 3, 32, 32) (10000, 3, 32, 32)\n"
          ]
        }
      ],
      "source": [
        "images = images.reshape((-1,3,32,32))\n",
        "testimages = testimages.reshape((-1,3,32,32))\n",
        "\n",
        "print(images.shape, testimages.shape)"
      ]
    },
    {
      "cell_type": "code",
      "execution_count": 14,
      "metadata": {
        "id": "edReLh5LMoTB"
      },
      "outputs": [],
      "source": [
        "images = images.astype(float)\n",
        "testimages = testimages.astype(float)"
      ]
    },
    {
      "cell_type": "code",
      "execution_count": 15,
      "metadata": {
        "colab": {
          "base_uri": "https://localhost:8080/"
        },
        "id": "4H5FOWP6RtBa",
        "outputId": "3778a741-ff96-4c2b-8d28-743a2c764657"
      },
      "outputs": [
        {
          "output_type": "stream",
          "name": "stdout",
          "text": [
            "(50000, 32, 32, 3) (10000, 32, 32, 3)\n"
          ]
        }
      ],
      "source": [
        "trimages = np.moveaxis(images,1,3)\n",
        "tsimages = np.moveaxis(testimages,1,3)\n",
        "print(trimages.shape, tsimages.shape)"
      ]
    },
    {
      "cell_type": "code",
      "execution_count": 16,
      "metadata": {
        "id": "5FAFkcmTRWV8"
      },
      "outputs": [],
      "source": [
        "labels = labels.astype(int)\n",
        "testlabels = testlabels.astype(int)"
      ]
    },
    {
      "cell_type": "code",
      "execution_count": 17,
      "metadata": {
        "id": "M0IGuzTGQmEJ"
      },
      "outputs": [],
      "source": [
        "lab_dict = {0:'airplane',1:'automobile',2:'bird',3:'cat',4:'deer',5:'dog',6:'frog',7:'horse',8:'ship',9:'truck'}"
      ]
    },
    {
      "cell_type": "code",
      "execution_count": 18,
      "metadata": {
        "colab": {
          "base_uri": "https://localhost:8080/",
          "height": 447
        },
        "id": "hvQ9ElwuQHzR",
        "outputId": "47111915-0ed9-4d23-a338-d9a83c7d95c3"
      },
      "outputs": [
        {
          "output_type": "display_data",
          "data": {
            "text/plain": [
              "<Figure size 640x480 with 1 Axes>"
            ],
            "image/png": "[encoded data removed]"
          },
          "metadata": {}
        },
        {
          "output_type": "stream",
          "name": "stdout",
          "text": [
            "bird\n"
          ]
        }
      ],
      "source": [
        "plt.imshow(trimages[57]/255.0)\n",
        "plt.show()\n",
        "print(lab_dict[labels[57]])"
      ]
    },
    {
      "cell_type": "markdown",
      "metadata": {
        "id": "42RiWwJZkUH5"
      },
      "source": [
        "\n",
        "\n",
        "```\n",
        "# This is formatted as code\n",
        "```\n",
        "\n",
        "### <font color='blue'>Performance Metrics</font>"
      ]
    },
    {
      "cell_type": "code",
      "execution_count": 19,
      "metadata": {
        "id": "kpT8np6skUH5"
      },
      "outputs": [],
      "source": [
        "#util_wk2\n",
        "def TP(y, pred, th=0.5):\n",
        "    pred_t = (pred > th)\n",
        "    return np.sum((pred_t == True) & (y == 1))\n",
        "\n",
        "\n",
        "def TN(y, pred, th=0.5):\n",
        "    pred_t = (pred > th)\n",
        "    return np.sum((pred_t == False) & (y == 0))\n",
        "\n",
        "\n",
        "def FN(y, pred, th=0.5):\n",
        "    pred_t = (pred > th)\n",
        "    return np.sum((pred_t == False) & (y == 1))\n",
        "\n",
        "def FP(y, pred, th=0.5):\n",
        "    pred_t = (pred > th)\n",
        "    return np.sum((pred_t == True) & (y == 0))\n",
        "\n",
        "def get_accuracy(y, pred, th=0.5):\n",
        "    tp = TP(y,pred,th)\n",
        "    fp = FP(y,pred,th)\n",
        "    tn = TN(y,pred,th)\n",
        "    fn = FN(y,pred,th)\n",
        "\n",
        "    return (tp+tn)/(tp+fp+tn+fn)\n",
        "\n",
        "def get_prevalence(y):\n",
        "    return np.sum(y)/y.shape[0]\n",
        "\n",
        "def sensitivity(y, pred, th=0.5):\n",
        "    tp = TP(y,pred,th)\n",
        "    fn = FN(y,pred,th)\n",
        "\n",
        "    return tp/(tp+fn)\n",
        "\n",
        "def specificity(y, pred, th=0.5):\n",
        "    tn = TN(y,pred,th)\n",
        "    fp = FP(y,pred,th)\n",
        "\n",
        "    return tn/(tn+fp)\n",
        "\n",
        "def get_ppv(y, pred, th=0.5):\n",
        "    tp = TP(y,pred,th)\n",
        "    fp = FP(y,pred,th)\n",
        "\n",
        "    return tp/(tp+fp)\n",
        "\n",
        "def get_npv(y, pred, th=0.5):\n",
        "    tn = TN(y,pred,th)\n",
        "    fn = FN(y,pred,th)\n",
        "\n",
        "    return tn/(tn+fn)\n",
        "\n",
        "\n",
        "def get_performance_metrics(y, pred, class_labels, tp=TP,\n",
        "                            tn=TN, fp=FP,\n",
        "                            fn=FN,\n",
        "                            acc=get_accuracy, prevalence=get_prevalence,\n",
        "                            spec=specificity,sens=sensitivity, ppv=get_ppv,\n",
        "                            npv=get_npv, auc=roc_auc_score, f1=f1_score,\n",
        "                            thresholds=[]):\n",
        "    if len(thresholds) != len(class_labels):\n",
        "        thresholds = [.5] * len(class_labels)\n",
        "\n",
        "    columns = [\"Injury\", \"TP\", \"TN\", \"FP\", \"FN\", \"Accuracy\", \"Prevalence\",\n",
        "               \"Sensitivity\",\n",
        "               \"Specificity\", \"PPV\", \"NPV\", \"AUC\", \"F1\", \"Threshold\"]\n",
        "    df = pd.DataFrame(columns=columns)\n",
        "    for i in range(len(class_labels)):\n",
        "        df.loc[i] = [class_labels[i],\n",
        "                     round(tp(y[:, i], pred[:, i]),3),\n",
        "                     round(tn(y[:, i], pred[:, i]),3),\n",
        "                     round(fp(y[:, i], pred[:, i]),3),\n",
        "                     round(fn(y[:, i], pred[:, i]),3),\n",
        "                     round(acc(y[:, i], pred[:, i], thresholds[i]),3),\n",
        "                     round(prevalence(y[:, i]),3),\n",
        "                     round(sens(y[:, i], pred[:, i], thresholds[i]),3),\n",
        "                     round(spec(y[:, i], pred[:, i], thresholds[i]),3),\n",
        "                     round(ppv(y[:, i], pred[:, i], thresholds[i]),3),\n",
        "                     round(npv(y[:, i], pred[:, i], thresholds[i]),3),\n",
        "                     round(auc(y[:, i], pred[:, i]),3),\n",
        "                     round(f1(y[:, i], pred[:, i] > thresholds[i]),3),\n",
        "                     round(thresholds[i], 3)]\n",
        "\n",
        "    df = df.set_index(\"Injury\")\n",
        "    return df\n",
        "\n",
        "def bootstrap_metric(y, pred, classes, metric='auc',bootstraps = 100, fold_size = 1000):\n",
        "    statistics = np.zeros((len(classes), bootstraps))\n",
        "    if metric=='AUC':\n",
        "        metric_func = roc_auc_score\n",
        "    if metric=='Sensitivity':\n",
        "        metric_func = sensitivity\n",
        "    if metric=='Specificity':\n",
        "        metric_func = specificity\n",
        "    if metric=='Accuracy':\n",
        "        metric_func = get_accuracy\n",
        "    for c in range(len(classes)):\n",
        "        df = pd.DataFrame(columns=['y', 'pred'])\n",
        "        df.loc[:, 'y'] = y[:, c]\n",
        "        df.loc[:, 'pred'] = pred[:, c]\n",
        "        # get positive examples for stratified sampling\n",
        "        df_pos = df[df.y == 1]\n",
        "        df_neg = df[df.y == 0]\n",
        "        prevalence = len(df_pos) / len(df)\n",
        "        for i in range(bootstraps):\n",
        "            # stratified sampling of positive and negative examples\n",
        "            pos_sample = df_pos.sample(n = int(fold_size * prevalence), replace=True)\n",
        "            neg_sample = df_neg.sample(n = int(fold_size * (1-prevalence)), replace=True)\n",
        "\n",
        "            y_sample = np.concatenate([pos_sample.y.values, neg_sample.y.values])\n",
        "            pred_sample = np.concatenate([pos_sample.pred.values, neg_sample.pred.values])\n",
        "            score = metric_func(y_sample, pred_sample)\n",
        "            statistics[c][i] = score\n",
        "    return statistics\n",
        "\n",
        "def get_confidence_intervals(y,pred,class_labels):\n",
        "\n",
        "    metric_dfs = {}\n",
        "    for metric in ['AUC','Sensitivity','Specificity','Accuracy']:\n",
        "        statistics = bootstrap_metric(y,pred,class_labels,metric)\n",
        "        df = pd.DataFrame(columns=[\"Mean \"+metric+\" (CI 5%-95%)\"])\n",
        "        for i in range(len(class_labels)):\n",
        "            mean = statistics.mean(axis=1)[i]\n",
        "            max_ = np.quantile(statistics, .95, axis=1)[i]\n",
        "            min_ = np.quantile(statistics, .05, axis=1)[i]\n",
        "            df.loc[class_labels[i]] = [\"%.2f (%.2f-%.2f)\" % (mean, min_, max_)]\n",
        "        metric_dfs[metric] = df\n",
        "    return metric_dfs\n"
      ]
    },
    {
      "cell_type": "markdown",
      "metadata": {
        "id": "qQJUoL4zuNYJ"
      },
      "source": [
        "### <font color='blue'>Plotting Metrics</font>"
      ]
    },
    {
      "cell_type": "markdown",
      "metadata": {
        "id": "wkLyllF2kUH8"
      },
      "source": [
        "#### <font color='red'>Accuracy</font>"
      ]
    },
    {
      "cell_type": "code",
      "execution_count": 20,
      "metadata": {
        "id": "8c0xP0kZNN84"
      },
      "outputs": [],
      "source": [
        "def plot_accuracy(tr_acc,val_acc):\n",
        "    # Plot training & validation accuracy values\n",
        "    plt.plot(tr_acc)\n",
        "    plt.plot(val_acc)\n",
        "    plt.title('Model accuracy',fontsize=10)\n",
        "    plt.ylabel('Accuracy',fontsize=10)\n",
        "    plt.xlabel('Epoch',fontsize=10)\n",
        "    plt.tick_params(axis='both', which='major', labelsize=10)\n",
        "    plt.legend(['Train', 'Validation'], loc='upper left',prop={'size': 10})\n",
        "    plt.savefig('accuracy_plot.png')\n",
        "    plt.show()"
      ]
    },
    {
      "cell_type": "markdown",
      "metadata": {
        "id": "aI_hg4wXkUH-"
      },
      "source": [
        "#### <font color='red'>Loss</font>"
      ]
    },
    {
      "cell_type": "code",
      "execution_count": 21,
      "metadata": {
        "id": "pOhp8lNpNOsb"
      },
      "outputs": [],
      "source": [
        "def plot_loss(tr_loss,val_loss):\n",
        "    # Plot training & validation loss values\n",
        "    plt.plot(tr_loss)\n",
        "    plt.plot(val_loss)\n",
        "    plt.title('Model loss',fontsize=10)\n",
        "    plt.ylabel('Loss',fontsize=10)\n",
        "    plt.xlabel('Epoch',fontsize=10)\n",
        "    plt.tick_params(axis='both', which='major', labelsize=10)\n",
        "    plt.legend(['Train', 'Validation'], loc='upper left',prop={'size': 10})\n",
        "    plt.savefig('loss_plot.png')\n",
        "    plt.show()"
      ]
    },
    {
      "cell_type": "markdown",
      "metadata": {
        "id": "Bopi6WMmkUIA"
      },
      "source": [
        "#### <font color='red'>ROC</font>"
      ]
    },
    {
      "cell_type": "code",
      "execution_count": 22,
      "metadata": {
        "id": "TRMFODDikUIB"
      },
      "outputs": [],
      "source": [
        "def get_roc_curve(gt, pred, target_names):\n",
        "    for i in range(len(target_names)):\n",
        "        curve_function = roc_curve\n",
        "        auc_roc = roc_auc_score(gt[:, i], pred[:, i])\n",
        "        label = str(target_names[i]) + \" AUC: %.3f \" % auc_roc\n",
        "        xlabel = \"False positive rate\"\n",
        "        ylabel = \"True positive rate\"\n",
        "        a, b, _ = curve_function(gt[:, i], pred[:, i])\n",
        "        plt.figure(1, figsize=(7, 7))\n",
        "        plt.plot([0, 1], [0, 1], 'k--')\n",
        "        plt.plot(a, b, label=label)\n",
        "        plt.xlabel(xlabel)\n",
        "        plt.ylabel(ylabel)\n",
        "        plt.legend(loc='upper center', bbox_to_anchor=(1.3, 1),\n",
        "                       fancybox=True, ncol=1)\n",
        "        plt.savefig('ROC_Curve.png')\n",
        "        plt.show()"
      ]
    },
    {
      "cell_type": "markdown",
      "metadata": {
        "id": "DBxj7WvNkUIC"
      },
      "source": [
        "#### <font color='red'>Precision and Recall</font>"
      ]
    },
    {
      "cell_type": "code",
      "execution_count": 23,
      "metadata": {
        "id": "Inw3SVknkUID"
      },
      "outputs": [],
      "source": [
        "def get_PR_curve(gt, pred, target_names):\n",
        "    for i in range(len(target_names)):\n",
        "        precision, recall, _ = precision_recall_curve(gt[:, i], pred[:, i])\n",
        "        average_precision = average_precision_score(gt[:, i], pred[:, i])\n",
        "        label = str(target_names[i]) + \" Avg.: %.3f \" % average_precision\n",
        "        plt.figure(1, figsize=(7, 7))\n",
        "        plt.step(recall, precision, where='post', label=label)\n",
        "        plt.xlabel('Recall')\n",
        "        plt.ylabel('Precision')\n",
        "        plt.ylim([0.0, 1.05])\n",
        "        plt.xlim([0.0, 1.0])\n",
        "        plt.legend(loc='upper center', bbox_to_anchor=(1.3, 1),\n",
        "                       fancybox=True, ncol=1)\n",
        "        plt.savefig('Precision_and_Recall_curve.png')\n",
        "        plt.show()"
      ]
    },
    {
      "cell_type": "markdown",
      "metadata": {
        "id": "sz7kNHQxkUIE"
      },
      "source": [
        "#### <font color='red'>Confusion Matrix</font>  "
      ]
    },
    {
      "cell_type": "code",
      "execution_count": 24,
      "metadata": {
        "id": "mviMdmIlkUIG"
      },
      "outputs": [],
      "source": [
        "def plot_confusion_matrix(y_true,y_pred,class_labels):\n",
        "    cm = confusion_matrix(y_true, y_pred, labels=class_labels)\n",
        "    cm_sum = np.sum(cm, axis=1, keepdims=True)\n",
        "    cm_perc = cm / cm_sum.astype(float) * 100\n",
        "    annot = np.empty_like(cm).astype(str)\n",
        "    nrows, ncols = cm.shape\n",
        "    for i in range(nrows):\n",
        "        for j in range(ncols):\n",
        "            c = cm[i, j]\n",
        "            p = cm_perc[i, j]\n",
        "            if i == j:\n",
        "                s = cm_sum[i]\n",
        "                annot[i, j] = '%.1f%%\\n%d/%d' % (p, c, s)\n",
        "            elif c == 0:\n",
        "                annot[i, j] = ''\n",
        "            else:\n",
        "                annot[i, j] = '%.1f%%\\n%d' % (p, c)\n",
        "    cm = pd.DataFrame(cm, index=class_labels, columns=class_labels)\n",
        "    cm.index.name = 'Actual'\n",
        "    cm.columns.name = 'Predicted'\n",
        "    fig, ax = plt.subplots(figsize=(60,60))\n",
        "    sns.set(font_scale=3.0) # Adjust to fit\n",
        "    sns.heatmap(cm, cmap= \"YlGnBu\", annot=annot, fmt='', ax=ax)\n",
        "    ax.tick_params(axis='both', which='major', labelsize=10)  # Adjust to fit\n",
        "    ax.xaxis.set_ticklabels(class_labels)\n",
        "    ax.yaxis.set_ticklabels(class_labels)\n",
        "    fig.savefig('Confusion_Matrix.png')\n",
        "    plt.show()"
      ]
    },
    {
      "cell_type": "markdown",
      "metadata": {
        "id": "AZTz4lvkkUII"
      },
      "source": [
        "#### <font color='red'>Performance Metrics with Errorbars</font>"
      ]
    },
    {
      "cell_type": "code",
      "execution_count": 25,
      "metadata": {
        "id": "i611AmBdkUII"
      },
      "outputs": [],
      "source": [
        "#04_03_Errorbar.ipynb\n",
        "def plot_perf_metrics_errbars(y,pred,class_labels):\n",
        "    metric_dfs = get_confidence_intervals(y,pred,class_labels)\n",
        "    metrics = metric_dfs.keys()\n",
        "    fig,axs = plt.subplots(len(metrics),1,sharey=True)\n",
        "    for i in range(len(metrics)):\n",
        "        ci = metric_dfs[metric][['Mean '+metrics[i]+' (CI 5%-95%)']].values\n",
        "        ci_mean,ci_ints = np.array([c[0].split(' ') for c in ci]).T\n",
        "        ci_mean = ci_mean.astype(float)\n",
        "        ci_min,ci_max = np.array([ci_ints.strip('()').split('-')]).astype(float)\n",
        "        ci_err = (ci_max-ci_min)/2\n",
        "\n",
        "        axs[i].errorbar(class_labels,ci_mean,yerr=ci_err,capsize=5,fmt='dk')\n",
        "        axs[i].set_ylabel(metrics[i])\n",
        "    fig.savefig('Performance_Metrics_95percentCI.png')\n",
        "    plt.show()"
      ]
    },
    {
      "cell_type": "code",
      "execution_count": 25,
      "metadata": {
        "id": "R7FekhZepl_b"
      },
      "outputs": [],
      "source": []
    },
    {
      "cell_type": "markdown",
      "metadata": {
        "id": "NkJpjkgQ4bOh"
      },
      "source": [
        "## Data Generator for Contrastive Learning\n"
      ]
    },
    {
      "cell_type": "markdown",
      "metadata": {
        "id": "uxVU4yN2fmNf"
      },
      "source": [
        "### Augmentations"
      ]
    },
    {
      "cell_type": "markdown",
      "metadata": {
        "id": "GGxeZGL5pl_f"
      },
      "source": [
        "#### Cutout"
      ]
    },
    {
      "cell_type": "code",
      "execution_count": 26,
      "metadata": {
        "id": "Uevy4eqIpl_f"
      },
      "outputs": [],
      "source": [
        "class Cutout(nn.Module):\n",
        "    def __init__(self, seed = 0):\n",
        "        self.seed = seed\n",
        "\n",
        "    def get_start_index(self,L):\n",
        "        return np.random.randint(L)\n",
        "\n",
        "    def __call__(self,frame):\n",
        "        channels, h, w = frame.shape\n",
        "        #print(frames.shape)\n",
        "        size = h//4\n",
        "        n_squares = np.random.randint(1,3,1)[0]\n",
        "        new_image = frame\n",
        "        for _ in range(n_squares):\n",
        "            y = np.clip(self.get_start_index(h), size // 2, h - size//2)\n",
        "            x = np.clip(self.get_start_index(w), size // 2, w - size//2)\n",
        "\n",
        "            y1 = np.clip(y - size // 2, 0, h)\n",
        "            y2 = np.clip(y + size // 2, 0, h)\n",
        "            x1 = np.clip(x - size // 2, 0, w)\n",
        "            x2 = np.clip(x + size // 2, 0, w)\n",
        "            new_image[:, y1:y2,x1:x2] = 0\n",
        "        return new_image"
      ]
    },
    {
      "cell_type": "markdown",
      "metadata": {
        "id": "pQNjkxBwpl_f"
      },
      "source": [
        "#### Gaussian Noise"
      ]
    },
    {
      "cell_type": "code",
      "execution_count": 27,
      "metadata": {
        "id": "yUy6waPkpl_f"
      },
      "outputs": [],
      "source": [
        "class AddGaussianNoise(nn.Module):\n",
        "    def __init__(self, mean=0., std=1.):\n",
        "        self.std = std\n",
        "        self.mean = mean\n",
        "\n",
        "    def __call__(self, tensor):\n",
        "        return tensor + torch.randn(tensor.size()) * self.std + self.mean\n",
        "\n",
        "    def __repr__(self):\n",
        "        return self.__class__.__name__ + '(mean={0}, std={1})'.format(self.mean, self.std)"
      ]
    },
    {
      "cell_type": "markdown",
      "metadata": {
        "id": "WEggCJ-p1T3h"
      },
      "source": [
        "### Datagen"
      ]
    },
    {
      "cell_type": "markdown",
      "metadata": {
        "id": "eZHyhUo0SF9w"
      },
      "source": [
        "###### CIFAR 10"
      ]
    },
    {
      "cell_type": "code",
      "execution_count": 28,
      "metadata": {
        "colab": {
          "base_uri": "https://localhost:8080/"
        },
        "id": "1F49w-IATyCl",
        "outputId": "43ecac4d-833b-4d83-e7f9-6512fcb2ea62"
      },
      "outputs": [
        {
          "output_type": "stream",
          "name": "stdout",
          "text": [
            "[[[[0.49145363]]\n",
            "\n",
            "  [[0.48206213]]\n",
            "\n",
            "  [[0.44622512]]]] [[[[0.24716829]]\n",
            "\n",
            "  [[0.24370658]]\n",
            "\n",
            "  [[0.26169213]]]]\n"
          ]
        }
      ],
      "source": [
        "MEAN = np.mean(images[:40000]/255.0,axis=(0,2,3),keepdims=True)\n",
        "STD = np.std(images[:40000]/255.0,axis=(0,2,3),keepdims=True)\n",
        "\n",
        "print(MEAN, STD)"
      ]
    },
    {
      "cell_type": "code",
      "execution_count": 29,
      "metadata": {
        "id": "wGLeZT4lSGV0"
      },
      "outputs": [],
      "source": [
        "class C10DataGen(Dataset):\n",
        "    def __init__(self,phase,imgarr,s = 0.5):\n",
        "        self.phase = phase\n",
        "        self.imgarr = imgarr\n",
        "        self.s = s\n",
        "        self.transforms = transforms.Compose([transforms.RandomHorizontalFlip(0.5),\n",
        "                                              transforms.RandomResizedCrop(32,(0.8,1.0)),\n",
        "                                              transforms.Compose([transforms.RandomApply([transforms.ColorJitter(0.8*self.s,\n",
        "                                                                                                                 0.8*self.s,\n",
        "                                                                                                                 0.8*self.s,\n",
        "                                                                                                                 0.2*self.s)], p = 0.8),\n",
        "                                                                  transforms.RandomGrayscale(p=0.2)\n",
        "                                                                 ])])\n",
        "\n",
        "    def __len__(self):\n",
        "        return self.imgarr.shape[0]\n",
        "\n",
        "    def __getitem__(self,idx):\n",
        "\n",
        "        x = self.imgarr[idx]\n",
        "        #print(x.shape)\n",
        "        x = x.astype(np.float32)/255.0\n",
        "\n",
        "        x1 = self.augment(torch.from_numpy(x))\n",
        "        x2 = self.augment(torch.from_numpy(x))\n",
        "\n",
        "        x1 = self.preprocess(x1)\n",
        "        x2 = self.preprocess(x2)\n",
        "\n",
        "        return x1, x2\n",
        "\n",
        "    #shuffles the dataset at the end of each epoch\n",
        "    def on_epoch_end(self):\n",
        "        self.imgarr = self.imgarr[random.sample(population = list(range(self.__len__())),k = self.__len__())]\n",
        "\n",
        "    def preprocess(self,frame):\n",
        "        frame = (frame-MEAN)/STD\n",
        "        return frame\n",
        "\n",
        "    #applies randomly selected augmentations to each clip (same for each frame in the clip)\n",
        "    def augment(self, frame, transformations = None):\n",
        "\n",
        "        if self.phase == 'train':\n",
        "            frame = self.transforms(frame)\n",
        "        else:\n",
        "            return frame\n",
        "\n",
        "        return frame"
      ]
    },
    {
      "cell_type": "markdown",
      "metadata": {
        "id": "cIqfcSTWpl_g"
      },
      "source": [
        "#### DataGen Test"
      ]
    },
    {
      "cell_type": "code",
      "execution_count": 30,
      "metadata": {
        "id": "3CLG1XLipl_g"
      },
      "outputs": [],
      "source": [
        "dg = C10DataGen('train',images) #train_df)\n",
        "dl = DataLoader(dg,batch_size = 8)"
      ]
    },
    {
      "cell_type": "code",
      "execution_count": 31,
      "metadata": {
        "colab": {
          "base_uri": "https://localhost:8080/",
          "height": 1000
        },
        "id": "2bdppfUYpl_g",
        "outputId": "6a658274-7779-4b54-8d0b-70a1e08a4723",
        "scrolled": true
      },
      "outputs": [
        {
          "output_type": "stream",
          "name": "stderr",
          "text": [
            "/usr/local/lib/python3.10/dist-packages/torchvision/transforms/functional.py:1603: UserWarning: The default value of the antialias parameter of all the resizing transforms (Resize(), RandomResizedCrop(), etc.) will change from None to True in v0.17, in order to be consistent across the PIL and Tensor backends. To suppress this warning, directly pass antialias=True (recommended, future default), antialias=None (current default, which means False for Tensors and True for PIL), or antialias=False (only works on Tensors - PIL will still use antialiasing). This also applies if you are using the inference transforms from the models weights: update the call to weights.transforms(antialias=True).\n",
            "  warnings.warn(\n"
          ]
        },
        {
          "output_type": "display_data",
          "data": {
            "text/plain": [
              "<Figure size 1600x12800 with 16 Axes>"
            ],
            "image/png": "[encoded data removed]"
          },
          "metadata": {}
        }
      ],
      "source": [
        "#MEAN = np.array([0.485, 0.456, 0.406]).reshape((1,1,3))\n",
        "#STD = np.array([0.229, 0.224, 0.25]).reshape((1,1,3))\n",
        "fig,axs = plt.subplots(8,2,figsize=(16,128))\n",
        "row = 0\n",
        "col = 0\n",
        "for step,(x1,x2) in enumerate(dl):\n",
        "\n",
        "    for i in range(8):\n",
        "        #print(x1[i]*STD + MEAN)\n",
        "        #print(x2[i]*STD + MEAN)\n",
        "        axs[i,0].imshow((x1[i]*STD + MEAN).squeeze().permute(1,2,0).numpy())\n",
        "        axs[i,1].imshow((x2[i]*STD + MEAN).squeeze().permute(1,2,0).numpy())\n",
        "    break"
      ]
    },
    {
      "cell_type": "code",
      "execution_count": 31,
      "metadata": {
        "id": "C2qO7Q43pl_g"
      },
      "outputs": [],
      "source": []
    },
    {
      "cell_type": "markdown",
      "metadata": {
        "id": "eRZ-ey1_2mPZ"
      },
      "source": [
        "## Model"
      ]
    },
    {
      "cell_type": "markdown",
      "metadata": {
        "id": "mPKTwFQl7a_h"
      },
      "source": [
        "### Final Code"
      ]
    },
    {
      "cell_type": "code",
      "execution_count": 32,
      "metadata": {
        "id": "2Wgq6cQy0H7t"
      },
      "outputs": [],
      "source": [
        "set_seed(16)"
      ]
    },
    {
      "cell_type": "code",
      "execution_count": 33,
      "metadata": {
        "id": "PYkMcwWYmawC"
      },
      "outputs": [],
      "source": [
        "class Identity(nn.Module):\n",
        "    def __init__(self):\n",
        "        super(Identity, self).__init__()\n",
        "\n",
        "    def forward(self, x):\n",
        "        return x\n",
        "\n",
        "class LinearLayer(nn.Module):\n",
        "    def __init__(self,\n",
        "                 in_features,\n",
        "                 out_features,\n",
        "                 use_bias = True,\n",
        "                 use_bn = False,\n",
        "                 **kwargs):\n",
        "        super(LinearLayer, self).__init__(**kwargs)\n",
        "\n",
        "        self.in_features = in_features\n",
        "        self.out_features = out_features\n",
        "        self.use_bias = use_bias\n",
        "        self.use_bn = use_bn\n",
        "\n",
        "        self.linear = nn.Linear(self.in_features,\n",
        "                                self.out_features,\n",
        "                                bias = self.use_bias and not self.use_bn)\n",
        "        if self.use_bn:\n",
        "             self.bn = nn.BatchNorm1d(self.out_features)\n",
        "\n",
        "    def forward(self,x):\n",
        "        x = self.linear(x)\n",
        "        if self.use_bn:\n",
        "            x = self.bn(x)\n",
        "        return x\n",
        "\n",
        "class ProjectionHead(nn.Module):\n",
        "    def __init__(self,\n",
        "                 in_features,\n",
        "                 hidden_features,\n",
        "                 out_features,\n",
        "                 head_type = 'nonlinear',\n",
        "                 **kwargs):\n",
        "        super(ProjectionHead,self).__init__(**kwargs)\n",
        "        self.in_features = in_features\n",
        "        self.out_features = out_features\n",
        "        self.hidden_features = hidden_features\n",
        "        self.head_type = head_type\n",
        "\n",
        "        if self.head_type == 'linear':\n",
        "            self.layers = LinearLayer(self.in_features,self.out_features,False, True)\n",
        "        elif self.head_type == 'nonlinear':\n",
        "            self.layers = nn.Sequential(\n",
        "                LinearLayer(self.in_features,self.hidden_features,True, True),\n",
        "                nn.ReLU(),\n",
        "                LinearLayer(self.hidden_features,self.out_features,False,True))\n",
        "\n",
        "    def forward(self,x):\n",
        "        x = self.layers(x)\n",
        "        return x\n",
        "\n",
        "class PreModel(nn.Module):\n",
        "    def __init__(self,base_model,base_out_layer):\n",
        "        super().__init__()\n",
        "        self.base_model = base_model\n",
        "        self.base_out_layer = base_out_layer\n",
        "\n",
        "        #PRETRAINED MODEL\n",
        "        self.pretrained = models.resnet50(pretrained=True)\n",
        "\n",
        "        self.pretrained.conv1 = nn.Conv2d(3, 64, kernel_size=(3, 3), stride=(1, 1), bias=False)\n",
        "        self.pretrained.maxpool = Identity()\n",
        "\n",
        "        self.pretrained.fc = Identity()\n",
        "\n",
        "        for p in self.pretrained.parameters():\n",
        "            p.requires_grad = True\n",
        "\n",
        "        self.projector = ProjectionHead(2048, 2048, 128)\n",
        "\n",
        "\n",
        "    def forward(self,x):\n",
        "        out = self.pretrained(x)\n",
        "\n",
        "        xp = self.projector(torch.squeeze(out))\n",
        "\n",
        "        return xp"
      ]
    },
    {
      "cell_type": "code",
      "execution_count": 34,
      "metadata": {
        "colab": {
          "base_uri": "https://localhost:8080/",
          "height": 445
        },
        "id": "CHJYDr2kFG1J",
        "outputId": "12fa0c9d-e188-43de-c6f2-27a24ce2b78e",
        "scrolled": true
      },
      "outputs": [
        {
          "output_type": "stream",
          "name": "stderr",
          "text": [
            "/usr/local/lib/python3.10/dist-packages/torchvision/models/_utils.py:208: UserWarning: The parameter 'pretrained' is deprecated since 0.13 and may be removed in the future, please use 'weights' instead.\n",
            "  warnings.warn(\n",
            "/usr/local/lib/python3.10/dist-packages/torchvision/models/_utils.py:223: UserWarning: Arguments other than a weight enum or `None` for 'weights' are deprecated since 0.13 and may be removed in the future. The current behavior is equivalent to passing `weights=ResNet50_Weights.IMAGENET1K_V1`. You can also use `weights=ResNet50_Weights.DEFAULT` to get the most up-to-date weights.\n",
            "  warnings.warn(msg)\n",
            "Downloading: \"https://download.pytorch.org/models/resnet50-0676ba61.pth\" to /root/.cache/torch/hub/checkpoints/resnet50-0676ba61.pth\n",
            "100%|██████████| 97.8M/97.8M [00:01<00:00, 52.4MB/s]\n"
          ]
        },
        {
          "output_type": "error",
          "ename": "RuntimeError",
          "evalue": "Found no NVIDIA driver on your system. Please check that you have an NVIDIA GPU and installed a driver from http://www.nvidia.com/Download/index.aspx",
          "traceback": [
            "\u001b[0;31m---------------------------------------------------------------------------\u001b[0m",
            "\u001b[0;31mRuntimeError\u001b[0m                              Traceback (most recent call last)",
            "\u001b[0;32m<ipython-input-34-ab2cb4a99c8e>\u001b[0m in \u001b[0;36m<cell line: 2>\u001b[0;34m()\u001b[0m\n\u001b[1;32m      1\u001b[0m \u001b[0mmodel\u001b[0m \u001b[0;34m=\u001b[0m \u001b[0mPreModel\u001b[0m\u001b[0;34m(\u001b[0m\u001b[0;34m'resnet50'\u001b[0m\u001b[0;34m,\u001b[0m\u001b[0;34m'avgpool'\u001b[0m\u001b[0;34m)\u001b[0m\u001b[0;34m\u001b[0m\u001b[0;34m\u001b[0m\u001b[0m\n\u001b[0;32m----> 2\u001b[0;31m \u001b[0mmodel\u001b[0m \u001b[0;34m=\u001b[0m \u001b[0mmodel\u001b[0m\u001b[0;34m.\u001b[0m\u001b[0mto\u001b[0m\u001b[0;34m(\u001b[0m\u001b[0;34m'cuda:0'\u001b[0m\u001b[0;34m)\u001b[0m\u001b[0;34m\u001b[0m\u001b[0;34m\u001b[0m\u001b[0m\n\u001b[0m",
            "\u001b[0;32m/usr/local/lib/python3.10/dist-packages/torch/nn/modules/module.py\u001b[0m in \u001b[0;36mto\u001b[0;34m(self, *args, **kwargs)\u001b[0m\n\u001b[1;32m   1158\u001b[0m             \u001b[0;32mreturn\u001b[0m \u001b[0mt\u001b[0m\u001b[0;34m.\u001b[0m\u001b[0mto\u001b[0m\u001b[0;34m(\u001b[0m\u001b[0mdevice\u001b[0m\u001b[0;34m,\u001b[0m \u001b[0mdtype\u001b[0m \u001b[0;32mif\u001b[0m \u001b[0mt\u001b[0m\u001b[0;34m.\u001b[0m\u001b[0mis_floating_point\u001b[0m\u001b[0;34m(\u001b[0m\u001b[0;34m)\u001b[0m \u001b[0;32mor\u001b[0m \u001b[0mt\u001b[0m\u001b[0;34m.\u001b[0m\u001b[0mis_complex\u001b[0m\u001b[0;34m(\u001b[0m\u001b[0;34m)\u001b[0m \u001b[0;32melse\u001b[0m \u001b[0;32mNone\u001b[0m\u001b[0;34m,\u001b[0m \u001b[0mnon_blocking\u001b[0m\u001b[0;34m)\u001b[0m\u001b[0;34m\u001b[0m\u001b[0;34m\u001b[0m\u001b[0m\n\u001b[1;32m   1159\u001b[0m \u001b[0;34m\u001b[0m\u001b[0m\n\u001b[0;32m-> 1160\u001b[0;31m         \u001b[0;32mreturn\u001b[0m \u001b[0mself\u001b[0m\u001b[0;34m.\u001b[0m\u001b[0m_apply\u001b[0m\u001b[0;34m(\u001b[0m\u001b[0mconvert\u001b[0m\u001b[0;34m)\u001b[0m\u001b[0;34m\u001b[0m\u001b[0;34m\u001b[0m\u001b[0m\n\u001b[0m\u001b[1;32m   1161\u001b[0m \u001b[0;34m\u001b[0m\u001b[0m\n\u001b[1;32m   1162\u001b[0m     def register_full_backward_pre_hook(\n",
            "\u001b[0;32m/usr/local/lib/python3.10/dist-packages/torch/nn/modules/module.py\u001b[0m in \u001b[0;36m_apply\u001b[0;34m(self, fn, recurse)\u001b[0m\n\u001b[1;32m    808\u001b[0m         \u001b[0;32mif\u001b[0m \u001b[0mrecurse\u001b[0m\u001b[0;34m:\u001b[0m\u001b[0;34m\u001b[0m\u001b[0;34m\u001b[0m\u001b[0m\n\u001b[1;32m    809\u001b[0m             \u001b[0;32mfor\u001b[0m \u001b[0mmodule\u001b[0m \u001b[0;32min\u001b[0m \u001b[0mself\u001b[0m\u001b[0;34m.\u001b[0m\u001b[0mchildren\u001b[0m\u001b[0;34m(\u001b[0m\u001b[0;34m)\u001b[0m\u001b[0;34m:\u001b[0m\u001b[0;34m\u001b[0m\u001b[0;34m\u001b[0m\u001b[0m\n\u001b[0;32m--> 810\u001b[0;31m                 \u001b[0mmodule\u001b[0m\u001b[0;34m.\u001b[0m\u001b[0m_apply\u001b[0m\u001b[0;34m(\u001b[0m\u001b[0mfn\u001b[0m\u001b[0;34m)\u001b[0m\u001b[0;34m\u001b[0m\u001b[0;34m\u001b[0m\u001b[0m\n\u001b[0m\u001b[1;32m    811\u001b[0m \u001b[0;34m\u001b[0m\u001b[0m\n\u001b[1;32m    812\u001b[0m         \u001b[0;32mdef\u001b[0m \u001b[0mcompute_should_use_set_data\u001b[0m\u001b[0;34m(\u001b[0m\u001b[0mtensor\u001b[0m\u001b[0;34m,\u001b[0m \u001b[0mtensor_applied\u001b[0m\u001b[0;34m)\u001b[0m\u001b[0;34m:\u001b[0m\u001b[0;34m\u001b[0m\u001b[0;34m\u001b[0m\u001b[0m\n",
            "\u001b[0;32m/usr/local/lib/python3.10/dist-packages/torch/nn/modules/module.py\u001b[0m in \u001b[0;36m_apply\u001b[0;34m(self, fn, recurse)\u001b[0m\n\u001b[1;32m    808\u001b[0m         \u001b[0;32mif\u001b[0m \u001b[0mrecurse\u001b[0m\u001b[0;34m:\u001b[0m\u001b[0;34m\u001b[0m\u001b[0;34m\u001b[0m\u001b[0m\n\u001b[1;32m    809\u001b[0m             \u001b[0;32mfor\u001b[0m \u001b[0mmodule\u001b[0m \u001b[0;32min\u001b[0m \u001b[0mself\u001b[0m\u001b[0;34m.\u001b[0m\u001b[0mchildren\u001b[0m\u001b[0;34m(\u001b[0m\u001b[0;34m)\u001b[0m\u001b[0;34m:\u001b[0m\u001b[0;34m\u001b[0m\u001b[0;34m\u001b[0m\u001b[0m\n\u001b[0;32m--> 810\u001b[0;31m                 \u001b[0mmodule\u001b[0m\u001b[0;34m.\u001b[0m\u001b[0m_apply\u001b[0m\u001b[0;34m(\u001b[0m\u001b[0mfn\u001b[0m\u001b[0;34m)\u001b[0m\u001b[0;34m\u001b[0m\u001b[0;34m\u001b[0m\u001b[0m\n\u001b[0m\u001b[1;32m    811\u001b[0m \u001b[0;34m\u001b[0m\u001b[0m\n\u001b[1;32m    812\u001b[0m         \u001b[0;32mdef\u001b[0m \u001b[0mcompute_should_use_set_data\u001b[0m\u001b[0;34m(\u001b[0m\u001b[0mtensor\u001b[0m\u001b[0;34m,\u001b[0m \u001b[0mtensor_applied\u001b[0m\u001b[0;34m)\u001b[0m\u001b[0;34m:\u001b[0m\u001b[0;34m\u001b[0m\u001b[0;34m\u001b[0m\u001b[0m\n",
            "\u001b[0;32m/usr/local/lib/python3.10/dist-packages/torch/nn/modules/module.py\u001b[0m in \u001b[0;36m_apply\u001b[0;34m(self, fn, recurse)\u001b[0m\n\u001b[1;32m    831\u001b[0m             \u001b[0;31m# `with torch.no_grad():`\u001b[0m\u001b[0;34m\u001b[0m\u001b[0;34m\u001b[0m\u001b[0m\n\u001b[1;32m    832\u001b[0m             \u001b[0;32mwith\u001b[0m \u001b[0mtorch\u001b[0m\u001b[0;34m.\u001b[0m\u001b[0mno_grad\u001b[0m\u001b[0;34m(\u001b[0m\u001b[0;34m)\u001b[0m\u001b[0;34m:\u001b[0m\u001b[0;34m\u001b[0m\u001b[0;34m\u001b[0m\u001b[0m\n\u001b[0;32m--> 833\u001b[0;31m                 \u001b[0mparam_applied\u001b[0m \u001b[0;34m=\u001b[0m \u001b[0mfn\u001b[0m\u001b[0;34m(\u001b[0m\u001b[0mparam\u001b[0m\u001b[0;34m)\u001b[0m\u001b[0;34m\u001b[0m\u001b[0;34m\u001b[0m\u001b[0m\n\u001b[0m\u001b[1;32m    834\u001b[0m             \u001b[0mshould_use_set_data\u001b[0m \u001b[0;34m=\u001b[0m \u001b[0mcompute_should_use_set_data\u001b[0m\u001b[0;34m(\u001b[0m\u001b[0mparam\u001b[0m\u001b[0;34m,\u001b[0m \u001b[0mparam_applied\u001b[0m\u001b[0;34m)\u001b[0m\u001b[0;34m\u001b[0m\u001b[0;34m\u001b[0m\u001b[0m\n\u001b[1;32m    835\u001b[0m             \u001b[0;32mif\u001b[0m \u001b[0mshould_use_set_data\u001b[0m\u001b[0;34m:\u001b[0m\u001b[0;34m\u001b[0m\u001b[0;34m\u001b[0m\u001b[0m\n",
            "\u001b[0;32m/usr/local/lib/python3.10/dist-packages/torch/nn/modules/module.py\u001b[0m in \u001b[0;36mconvert\u001b[0;34m(t)\u001b[0m\n\u001b[1;32m   1156\u001b[0m                 return t.to(device, dtype if t.is_floating_point() or t.is_complex() else None,\n\u001b[1;32m   1157\u001b[0m                             non_blocking, memory_format=convert_to_format)\n\u001b[0;32m-> 1158\u001b[0;31m             \u001b[0;32mreturn\u001b[0m \u001b[0mt\u001b[0m\u001b[0;34m.\u001b[0m\u001b[0mto\u001b[0m\u001b[0;34m(\u001b[0m\u001b[0mdevice\u001b[0m\u001b[0;34m,\u001b[0m \u001b[0mdtype\u001b[0m \u001b[0;32mif\u001b[0m \u001b[0mt\u001b[0m\u001b[0;34m.\u001b[0m\u001b[0mis_floating_point\u001b[0m\u001b[0;34m(\u001b[0m\u001b[0;34m)\u001b[0m \u001b[0;32mor\u001b[0m \u001b[0mt\u001b[0m\u001b[0;34m.\u001b[0m\u001b[0mis_complex\u001b[0m\u001b[0;34m(\u001b[0m\u001b[0;34m)\u001b[0m \u001b[0;32melse\u001b[0m \u001b[0;32mNone\u001b[0m\u001b[0;34m,\u001b[0m \u001b[0mnon_blocking\u001b[0m\u001b[0;34m)\u001b[0m\u001b[0;34m\u001b[0m\u001b[0;34m\u001b[0m\u001b[0m\n\u001b[0m\u001b[1;32m   1159\u001b[0m \u001b[0;34m\u001b[0m\u001b[0m\n\u001b[1;32m   1160\u001b[0m         \u001b[0;32mreturn\u001b[0m \u001b[0mself\u001b[0m\u001b[0;34m.\u001b[0m\u001b[0m_apply\u001b[0m\u001b[0;34m(\u001b[0m\u001b[0mconvert\u001b[0m\u001b[0;34m)\u001b[0m\u001b[0;34m\u001b[0m\u001b[0;34m\u001b[0m\u001b[0m\n",
            "\u001b[0;32m/usr/local/lib/python3.10/dist-packages/torch/cuda/__init__.py\u001b[0m in \u001b[0;36m_lazy_init\u001b[0;34m()\u001b[0m\n\u001b[1;32m    296\u001b[0m         \u001b[0;32mif\u001b[0m \u001b[0;34m\"CUDA_MODULE_LOADING\"\u001b[0m \u001b[0;32mnot\u001b[0m \u001b[0;32min\u001b[0m \u001b[0mos\u001b[0m\u001b[0;34m.\u001b[0m\u001b[0menviron\u001b[0m\u001b[0;34m:\u001b[0m\u001b[0;34m\u001b[0m\u001b[0;34m\u001b[0m\u001b[0m\n\u001b[1;32m    297\u001b[0m             \u001b[0mos\u001b[0m\u001b[0;34m.\u001b[0m\u001b[0menviron\u001b[0m\u001b[0;34m[\u001b[0m\u001b[0;34m\"CUDA_MODULE_LOADING\"\u001b[0m\u001b[0;34m]\u001b[0m \u001b[0;34m=\u001b[0m \u001b[0;34m\"LAZY\"\u001b[0m\u001b[0;34m\u001b[0m\u001b[0;34m\u001b[0m\u001b[0m\n\u001b[0;32m--> 298\u001b[0;31m         \u001b[0mtorch\u001b[0m\u001b[0;34m.\u001b[0m\u001b[0m_C\u001b[0m\u001b[0;34m.\u001b[0m\u001b[0m_cuda_init\u001b[0m\u001b[0;34m(\u001b[0m\u001b[0;34m)\u001b[0m\u001b[0;34m\u001b[0m\u001b[0;34m\u001b[0m\u001b[0m\n\u001b[0m\u001b[1;32m    299\u001b[0m         \u001b[0;31m# Some of the queued calls may reentrantly call _lazy_init();\u001b[0m\u001b[0;34m\u001b[0m\u001b[0;34m\u001b[0m\u001b[0m\n\u001b[1;32m    300\u001b[0m         \u001b[0;31m# we need to just return without initializing in that case.\u001b[0m\u001b[0;34m\u001b[0m\u001b[0;34m\u001b[0m\u001b[0m\n",
            "\u001b[0;31mRuntimeError\u001b[0m: Found no NVIDIA driver on your system. Please check that you have an NVIDIA GPU and installed a driver from http://www.nvidia.com/Download/index.aspx"
          ]
        }
      ],
      "source": [
        "model = PreModel('resnet50','avgpool')\n",
        "model = model.to('cuda:0')"
      ]
    },
    {
      "cell_type": "code",
      "execution_count": null,
      "metadata": {
        "id": "DHRLkMgDpl_h",
        "scrolled": true
      },
      "outputs": [],
      "source": [
        "print(model)"
      ]
    },
    {
      "cell_type": "code",
      "execution_count": null,
      "metadata": {
        "id": "S4jCRPqKpl_i"
      },
      "outputs": [],
      "source": [
        "x = np.random.random((8,3,224,224))"
      ]
    },
    {
      "cell_type": "code",
      "execution_count": null,
      "metadata": {
        "id": "_P9kuZf1FbXk",
        "scrolled": true
      },
      "outputs": [],
      "source": [
        "out = model(torch.tensor(x, device = 'cuda:0', dtype = torch.float32))"
      ]
    },
    {
      "cell_type": "code",
      "execution_count": null,
      "metadata": {
        "id": "p2ZXrAypFN1r"
      },
      "outputs": [],
      "source": [
        "out[0].shape, out[1].shape\n"
      ]
    },
    {
      "cell_type": "markdown",
      "metadata": {
        "id": "ZEaRSe00ZRIO"
      },
      "source": [
        "### Training"
      ]
    },
    {
      "cell_type": "code",
      "execution_count": null,
      "metadata": {
        "id": "YzZR6tLnFN7U"
      },
      "outputs": [],
      "source": [
        "def load_optimizer(arg_optimizer, model, batch_size):\n",
        "\n",
        "    scheduler = None\n",
        "    if arg_optimizer == \"Adam\":\n",
        "        optimizer = torch.optim.Adam(model.parameters(), lr=3e-4)  # TODO: LARS\n",
        "    elif arg_optimizer == \"LARS\":\n",
        "        # optimized using LARS with linear learning rate scaling\n",
        "        # (i.e. LearningRate = 0.3 × BatchSize/256) and weight decay of 10−6.\n",
        "        learning_rate = 0.3 * batch_size / 256\n",
        "        optimizer = LARS(\n",
        "            [params for params in model.parameters() if params.requires_grad],\n",
        "            lr=0.1,\n",
        "            weight_decay=1e-6,\n",
        "            exclude_from_weight_decay=[\"batch_normalization\", \"bias\"],\n",
        "        )\n",
        "\n",
        "        # \"decay the learning rate with the cosine decay schedule without restarts\"\n",
        "        scheduler = torch.optim.lr_scheduler.CosineAnnealingLR(\n",
        "            optimizer, epochs, eta_min=0, last_epoch=-1\n",
        "        )\n",
        "    else:\n",
        "        raise NotImplementedError\n",
        "\n",
        "    return optimizer, scheduler\n",
        "\n",
        "def save_model(model, optimizer, scheduler, current_epoch, name):\n",
        "    out = os.path.join('/content/saved_models/',name.format(current_epoch))\n",
        "\n",
        "    torch.save({'model_state_dict': model.state_dict(),\n",
        "                'optimizer_state_dict': optimizer.state_dict(),\n",
        "                'scheduler_state_dict':scheduler.state_dict()}, out)"
      ]
    },
    {
      "cell_type": "code",
      "execution_count": null,
      "metadata": {
        "id": "S7_mTokQpl_j"
      },
      "outputs": [],
      "source": [
        "!mkdir /content/saved_models"
      ]
    },
    {
      "cell_type": "markdown",
      "metadata": {
        "id": "4zSuiZ5zpl_j"
      },
      "source": [
        "#### Loss"
      ]
    },
    {
      "cell_type": "code",
      "execution_count": null,
      "metadata": {
        "id": "P1Ileef6pl_j"
      },
      "outputs": [],
      "source": [
        "class SimCLR_Loss(nn.Module):\n",
        "    def __init__(self, batch_size, temperature):\n",
        "        super(SimCLR_Loss, self).__init__()\n",
        "        self.batch_size = batch_size\n",
        "        self.temperature = temperature\n",
        "\n",
        "        self.mask = self.mask_correlated_samples(batch_size)\n",
        "        self.criterion = nn.CrossEntropyLoss(reduction=\"sum\")\n",
        "        self.similarity_f = nn.CosineSimilarity(dim=2)\n",
        "\n",
        "        self.tot_neg = 0\n",
        "\n",
        "    def mask_correlated_samples(self, batch_size):\n",
        "        N = 2 * batch_size\n",
        "        mask = torch.ones((N, N), dtype=bool)\n",
        "        mask = mask.fill_diagonal_(0)\n",
        "\n",
        "        for i in range(batch_size):\n",
        "            mask[i, batch_size + i] = 0\n",
        "            mask[batch_size + i, i] = 0\n",
        "\n",
        "        return mask\n",
        "\n",
        "    def forward(self, z_i, z_j):\n",
        "        \"\"\"\n",
        "        We do not sample negative examples explicitly.\n",
        "        Instead, given a positive pair, similar to (Chen et al., 2017), we treat the other 2(N − 1) augmented examples within a minibatch as negative examples.\n",
        "        \"\"\"\n",
        "        N = 2 * self.batch_size #* self.world_size\n",
        "\n",
        "        #z_i_ = z_i / torch.sqrt(torch.sum(torch.square(z_i),dim = 1, keepdim = True))\n",
        "        #z_j_ = z_j / torch.sqrt(torch.sum(torch.square(z_j),dim = 1, keepdim = True))\n",
        "\n",
        "        z = torch.cat((z_i, z_j), dim=0)\n",
        "\n",
        "        sim = self.similarity_f(z.unsqueeze(1), z.unsqueeze(0)) / self.temperature\n",
        "\n",
        "        #print(sim.shape)\n",
        "\n",
        "        sim_i_j = torch.diag(sim, self.batch_size)\n",
        "        sim_j_i = torch.diag(sim, -self.batch_size)\n",
        "\n",
        "\n",
        "        # We have 2N samples, but with Distributed training every GPU gets N examples too, resulting in: 2xNxN\n",
        "        positive_samples = torch.cat((sim_i_j, sim_j_i), dim=0).reshape(N, 1)\n",
        "        negative_samples = sim[self.mask].reshape(N, -1)\n",
        "\n",
        "\n",
        "        #SIMCLR\n",
        "        labels = torch.from_numpy(np.array([0]*N)).reshape(-1).to(positive_samples.device).long() #.float()\n",
        "        #labels was torch.zeros(N)\n",
        "        logits = torch.cat((positive_samples, negative_samples), dim=1)\n",
        "        loss = self.criterion(logits, labels)\n",
        "        loss /= N\n",
        "\n",
        "        return loss"
      ]
    },
    {
      "cell_type": "markdown",
      "metadata": {
        "id": "z2XOwfizpl_j"
      },
      "source": [
        "#### Optimizer"
      ]
    },
    {
      "cell_type": "code",
      "execution_count": null,
      "metadata": {
        "id": "lC1atJNhpl_k"
      },
      "outputs": [],
      "source": [
        "from torch.optim.optimizer import Optimizer, required\n",
        "import re\n",
        "\n",
        "EETA_DEFAULT = 0.001\n",
        "\n",
        "\n",
        "class LARS(Optimizer):\n",
        "    \"\"\"\n",
        "    Layer-wise Adaptive Rate Scaling for large batch training.\n",
        "    Introduced by \"Large Batch Training of Convolutional Networks\" by Y. You,\n",
        "    I. Gitman, and B. Ginsburg. (https://arxiv.org/abs/1708.03888)\n",
        "    \"\"\"\n",
        "\n",
        "    def __init__(\n",
        "        self,\n",
        "        params,\n",
        "        lr=required,\n",
        "        momentum=0.9,\n",
        "        use_nesterov=False,\n",
        "        weight_decay=0.0,\n",
        "        exclude_from_weight_decay=None,\n",
        "        exclude_from_layer_adaptation=None,\n",
        "        classic_momentum=True,\n",
        "        eeta=EETA_DEFAULT,\n",
        "    ):\n",
        "        \"\"\"Constructs a LARSOptimizer.\n",
        "        Args:\n",
        "        lr: A `float` for learning rate.\n",
        "        momentum: A `float` for momentum.\n",
        "        use_nesterov: A 'Boolean' for whether to use nesterov momentum.\n",
        "        weight_decay: A `float` for weight decay.\n",
        "        exclude_from_weight_decay: A list of `string` for variable screening, if\n",
        "            any of the string appears in a variable's name, the variable will be\n",
        "            excluded for computing weight decay. For example, one could specify\n",
        "            the list like ['batch_normalization', 'bias'] to exclude BN and bias\n",
        "            from weight decay.\n",
        "        exclude_from_layer_adaptation: Similar to exclude_from_weight_decay, but\n",
        "            for layer adaptation. If it is None, it will be defaulted the same as\n",
        "            exclude_from_weight_decay.\n",
        "        classic_momentum: A `boolean` for whether to use classic (or popular)\n",
        "            momentum. The learning rate is applied during momeuntum update in\n",
        "            classic momentum, but after momentum for popular momentum.\n",
        "        eeta: A `float` for scaling of learning rate when computing trust ratio.\n",
        "        name: The name for the scope.\n",
        "        \"\"\"\n",
        "\n",
        "        self.epoch = 0\n",
        "        defaults = dict(\n",
        "            lr=lr,\n",
        "            momentum=momentum,\n",
        "            use_nesterov=use_nesterov,\n",
        "            weight_decay=weight_decay,\n",
        "            exclude_from_weight_decay=exclude_from_weight_decay,\n",
        "            exclude_from_layer_adaptation=exclude_from_layer_adaptation,\n",
        "            classic_momentum=classic_momentum,\n",
        "            eeta=eeta,\n",
        "        )\n",
        "\n",
        "        super(LARS, self).__init__(params, defaults)\n",
        "        self.lr = lr\n",
        "        self.momentum = momentum\n",
        "        self.weight_decay = weight_decay\n",
        "        self.use_nesterov = use_nesterov\n",
        "        self.classic_momentum = classic_momentum\n",
        "        self.eeta = eeta\n",
        "        self.exclude_from_weight_decay = exclude_from_weight_decay\n",
        "        # exclude_from_layer_adaptation is set to exclude_from_weight_decay if the\n",
        "        # arg is None.\n",
        "        if exclude_from_layer_adaptation:\n",
        "            self.exclude_from_layer_adaptation = exclude_from_layer_adaptation\n",
        "        else:\n",
        "            self.exclude_from_layer_adaptation = exclude_from_weight_decay\n",
        "\n",
        "    def step(self, epoch=None, closure=None):\n",
        "        loss = None\n",
        "        if closure is not None:\n",
        "            loss = closure()\n",
        "\n",
        "        if epoch is None:\n",
        "            epoch = self.epoch\n",
        "            self.epoch += 1\n",
        "\n",
        "        for group in self.param_groups:\n",
        "            weight_decay = group[\"weight_decay\"]\n",
        "            momentum = group[\"momentum\"]\n",
        "            eeta = group[\"eeta\"]\n",
        "            lr = group[\"lr\"]\n",
        "\n",
        "            for p in group[\"params\"]:\n",
        "                if p.grad is None:\n",
        "                    continue\n",
        "\n",
        "                param = p.data\n",
        "                grad = p.grad.data\n",
        "\n",
        "                param_state = self.state[p]\n",
        "\n",
        "                # TODO: get param names\n",
        "                # if self._use_weight_decay(param_name):\n",
        "                grad += self.weight_decay * param\n",
        "\n",
        "                if self.classic_momentum:\n",
        "                    trust_ratio = 1.0\n",
        "\n",
        "                    # TODO: get param names\n",
        "                    # if self._do_layer_adaptation(param_name):\n",
        "                    w_norm = torch.norm(param)\n",
        "                    g_norm = torch.norm(grad)\n",
        "\n",
        "                    device = g_norm.get_device()\n",
        "                    trust_ratio = torch.where(\n",
        "                        w_norm.gt(0),\n",
        "                        torch.where(\n",
        "                            g_norm.gt(0),\n",
        "                            (self.eeta * w_norm / g_norm),\n",
        "                            torch.Tensor([1.0]).to(device),\n",
        "                        ),\n",
        "                        torch.Tensor([1.0]).to(device),\n",
        "                    ).item()\n",
        "\n",
        "                    scaled_lr = lr * trust_ratio\n",
        "                    if \"momentum_buffer\" not in param_state:\n",
        "                        next_v = param_state[\"momentum_buffer\"] = torch.zeros_like(\n",
        "                            p.data\n",
        "                        )\n",
        "                    else:\n",
        "                        next_v = param_state[\"momentum_buffer\"]\n",
        "\n",
        "                    next_v.mul_(momentum).add_(scaled_lr, grad)\n",
        "                    if self.use_nesterov:\n",
        "                        update = (self.momentum * next_v) + (scaled_lr * grad)\n",
        "                    else:\n",
        "                        update = next_v\n",
        "\n",
        "                    p.data.add_(-update)\n",
        "                else:\n",
        "                    raise NotImplementedError\n",
        "\n",
        "        return loss\n",
        "\n",
        "    def _use_weight_decay(self, param_name):\n",
        "        \"\"\"Whether to use L2 weight decay for `param_name`.\"\"\"\n",
        "        if not self.weight_decay:\n",
        "            return False\n",
        "        if self.exclude_from_weight_decay:\n",
        "            for r in self.exclude_from_weight_decay:\n",
        "                if re.search(r, param_name) is not None:\n",
        "                    return False\n",
        "        return True\n",
        "\n",
        "    def _do_layer_adaptation(self, param_name):\n",
        "        \"\"\"Whether to do layer-wise learning rate adaptation for `param_name`.\"\"\"\n",
        "        if self.exclude_from_layer_adaptation:\n",
        "            for r in self.exclude_from_layer_adaptation:\n",
        "                if re.search(r, param_name) is not None:\n",
        "                    return False\n",
        "        return True"
      ]
    },
    {
      "cell_type": "code",
      "execution_count": null,
      "metadata": {
        "id": "hPRKldHepl_k"
      },
      "outputs": [],
      "source": [
        "optimizer = LARS(\n",
        "    [params for params in model.parameters() if params.requires_grad],\n",
        "    lr=0.2,\n",
        "    weight_decay=1e-6,\n",
        "    exclude_from_weight_decay=[\"batch_normalization\", \"bias\"],\n",
        ")\n",
        "\n",
        "# \"decay the learning rate with the cosine decay schedule without restarts\"\n",
        "warmupscheduler = torch.optim.lr_scheduler.LambdaLR(optimizer, lambda epoch : (epoch+1)/10.0, verbose = True)\n",
        "mainscheduler = torch.optim.lr_scheduler.CosineAnnealingWarmRestarts(optimizer, 500, eta_min=0.05, last_epoch=-1, verbose = True)"
      ]
    },
    {
      "cell_type": "code",
      "execution_count": null,
      "metadata": {
        "id": "AHlV6dPaZClA"
      },
      "outputs": [],
      "source": [
        "criterion = (SimCLR_Loss(batch_size = 64, temperature = 0.5))"
      ]
    },
    {
      "cell_type": "code",
      "execution_count": null,
      "metadata": {
        "id": "B08GiwN2pl_l"
      },
      "outputs": [],
      "source": [
        "trimages = images[:40000]\n",
        "valimages = images[40000:]\n",
        "trlabels = labels[:40000]\n",
        "vallabels = labels[40000:]"
      ]
    },
    {
      "cell_type": "code",
      "execution_count": null,
      "metadata": {
        "id": "SbKVH47BUmeu"
      },
      "outputs": [],
      "source": [
        "dg = C10DataGen('train',trimages)#train_df)\n",
        "dl = DataLoader(dg,batch_size = 64,drop_last=True)"
      ]
    },
    {
      "cell_type": "code",
      "execution_count": null,
      "metadata": {
        "id": "rKYK4PXwpl_l"
      },
      "outputs": [],
      "source": [
        "vdg = C10DataGen('valid',valimages)#_df)\n",
        "vdl = DataLoader(vdg,batch_size = 64,drop_last=True)"
      ]
    },
    {
      "cell_type": "code",
      "execution_count": null,
      "metadata": {
        "id": "Hs2MG-9fL65Z"
      },
      "outputs": [],
      "source": [
        "plt.hist(vallabels)"
      ]
    },
    {
      "cell_type": "markdown",
      "metadata": {
        "id": "OJPC4wYwpl_l"
      },
      "source": [
        "#### Real Training"
      ]
    },
    {
      "cell_type": "code",
      "execution_count": null,
      "metadata": {
        "id": "f_FOfbMRpl_m"
      },
      "outputs": [],
      "source": [
        "\n",
        "nr = 0\n",
        "global_step = 0\n",
        "current_epoch = 0\n",
        "epochs = 100"
      ]
    },
    {
      "cell_type": "code",
      "execution_count": null,
      "metadata": {
        "id": "oz09Sza8pl_n"
      },
      "outputs": [],
      "source": [
        "def plot_features(model, num_classes, num_feats, batch_size, val_df = None):\n",
        "    preds = np.array([]).reshape((0,1))\n",
        "    gt = np.array([]).reshape((0,1))\n",
        "    feats = np.array([]).reshape((0,num_feats))\n",
        "    model.eval()\n",
        "    with torch.no_grad():\n",
        "        for x1,x2 in vdl:\n",
        "            x1 = x1.squeeze().to(device = 'cuda:0', dtype = torch.float)#.view((-1,3,224,224))\n",
        "            #y = y.to(device = 'cuda:0')#.view((-1,1))\n",
        "            out = model(x1)\n",
        "            out = out.cpu().data.numpy()#.reshape((1,-1))\n",
        "            feats = np.append(feats,out,axis = 0)\n",
        "\n",
        "    tsne = TSNE(n_components = 2, perplexity = 50)\n",
        "    x_feats = tsne.fit_transform(feats)\n",
        "    #plt.scatter(x_feats[:,1],x_feats[:,0])\n",
        "    num_samples = int(batch_size*(valimages.shape[0]//batch_size))#(len(val_df)\n",
        "\n",
        "    for i in range(num_classes):\n",
        "        #plt.scatter(x_feats[val_df['class'].iloc[:num_samples].values==i,1],x_feats[val_df['class'].iloc[:num_samples].values==i,0])\n",
        "        plt.scatter(x_feats[vallabels[:num_samples]==i,1],x_feats[vallabels[:num_samples]==i,0])\n",
        "\n",
        "    plt.legend([str(i) for i in range(num_classes)])\n",
        "    plt.show()"
      ]
    },
    {
      "cell_type": "code",
      "execution_count": null,
      "metadata": {
        "id": "UdumxB3Gc_IG"
      },
      "outputs": [],
      "source": [
        "plot_features(model.pretrained, 10, 2048, 64)"
      ]
    },
    {
      "cell_type": "code",
      "execution_count": null,
      "metadata": {
        "id": "eVPcOEDqpl_m"
      },
      "outputs": [],
      "source": [
        "def train(train_loader, model, criterion, optimizer):\n",
        "    loss_epoch = 0\n",
        "\n",
        "    for step, (x_i, x_j) in enumerate(train_loader):\n",
        "        optimizer.zero_grad()\n",
        "        x_i = x_i.squeeze().to('cuda:0').float()\n",
        "        x_j = x_j.squeeze().to('cuda:0').float()\n",
        "\n",
        "        # positive pair, with encoding\n",
        "        z_i = model(x_i)\n",
        "        z_j = model(x_j)\n",
        "\n",
        "        loss = criterion(z_i, z_j)\n",
        "        loss.backward()\n",
        "\n",
        "        optimizer.step()\n",
        "\n",
        "        if nr == 0 and step % 50 == 0:\n",
        "            print(f\"Step [{step}/{len(train_loader)}]\\t Loss: {round(loss.item(), 5)}\")\n",
        "\n",
        "        loss_epoch += loss.item()\n",
        "    return loss_epoch"
      ]
    },
    {
      "cell_type": "code",
      "execution_count": null,
      "metadata": {
        "id": "o9q6ZHKkpl_m"
      },
      "outputs": [],
      "source": [
        "def valid(valid_loader, model, criterion):\n",
        "    loss_epoch = 0\n",
        "    for step, (x_i, x_j) in enumerate(valid_loader):\n",
        "\n",
        "        x_i = x_i.squeeze().to('cuda:0').float()\n",
        "        x_j = x_j.squeeze().to('cuda:0').float()\n",
        "\n",
        "        # positive pair, with encoding\n",
        "        z_i = model(x_i)\n",
        "        z_j = model(x_j)\n",
        "\n",
        "        loss = criterion(z_i, z_j)\n",
        "\n",
        "        if nr == 0 and step % 50 == 0:\n",
        "            print(f\"Step [{step}/{len(valid_loader)}]\\t Loss: {round(loss.item(),5)}\")\n",
        "\n",
        "        loss_epoch += loss.item()\n",
        "    return loss_epoch"
      ]
    },
    {
      "cell_type": "code",
      "execution_count": null,
      "metadata": {
        "id": "KSkx3X6Dpl_m"
      },
      "outputs": [],
      "source": [
        "tr_loss = []\n",
        "val_loss = []"
      ]
    },
    {
      "cell_type": "code",
      "execution_count": null,
      "metadata": {
        "id": "tv6V3d-iZIbH",
        "scrolled": true
      },
      "outputs": [],
      "source": [
        "for epoch in range(100):\n",
        "\n",
        "    print(f\"Epoch [{epoch}/{epochs}]\\t\")\n",
        "    stime = time.time()\n",
        "\n",
        "    model.train()\n",
        "    tr_loss_epoch = train(dl, model, criterion, optimizer)\n",
        "\n",
        "    if nr == 0 and epoch < 10:\n",
        "        warmupscheduler.step()\n",
        "    if nr == 0 and epoch >= 10:\n",
        "        mainscheduler.step()\n",
        "\n",
        "    lr = optimizer.param_groups[0][\"lr\"]\n",
        "\n",
        "    if nr == 0 and (epoch+1) % 50 == 0:\n",
        "        save_model(model, optimizer, mainscheduler, current_epoch,\"SimCLR_CIFAR10_RN50_P128_LR0P2_LWup10_Cos500_T0p5_B128_checkpoint_{}_260621.pt\")\n",
        "\n",
        "    model.eval()\n",
        "    with torch.no_grad():\n",
        "        val_loss_epoch = valid(vdl, model, criterion)\n",
        "\n",
        "    if nr == 0:\n",
        "\n",
        "        tr_loss.append(tr_loss_epoch / len(dl))\n",
        "\n",
        "        val_loss.append(val_loss_epoch / len(vdl))\n",
        "\n",
        "        print(\n",
        "            f\"Epoch [{epoch}/{epochs}]\\t Training Loss: {tr_loss_epoch / len(dl)}\\t lr: {round(lr, 5)}\"\n",
        "        )\n",
        "        print(\n",
        "            f\"Epoch [{epoch}/{epochs}]\\t Validation Loss: {val_loss_epoch / len(vdl)}\\t lr: {round(lr, 5)}\"\n",
        "        )\n",
        "        current_epoch += 1\n",
        "\n",
        "    dg.on_epoch_end()\n",
        "\n",
        "    time_taken = (time.time()-stime)/60\n",
        "    print(f\"Epoch [{epoch}/{epochs}]\\t Time Taken: {time_taken} minutes\")\n",
        "\n",
        "    if (epoch+1)%10==0:\n",
        "        plot_features(model.pretrained, 10, 2048, 128) #, valimages)\n",
        "\n",
        "## end training\n",
        "save_model(model, optimizer, mainscheduler, current_epoch, \"SimCLR_CIFAR10_RN50_P128_LR0P2_LWup10_Cos500_T0p5_B128_checkpoint_{}_260621.pt\")"
      ]
    },
    {
      "cell_type": "code",
      "execution_count": null,
      "metadata": {
        "id": "-QVpNB6PG1SV"
      },
      "outputs": [],
      "source": [
        "np.unique(vallabels)"
      ]
    },
    {
      "cell_type": "code",
      "execution_count": null,
      "metadata": {
        "id": "Cs31qGP3ak8z"
      },
      "outputs": [],
      "source": [
        "save_model(model, optimizer, scheduler, current_epoch, \"SimCLR_IMgNet200_RN50_P512_LR0P5_B128_checkpoint_{}_140621.pt\")"
      ]
    },
    {
      "cell_type": "code",
      "execution_count": null,
      "metadata": {
        "id": "UkqOUp1-pl_n"
      },
      "outputs": [],
      "source": [
        "plt.plot(tr_loss,'b-')\n",
        "plt.plot(val_loss,'r-')\n",
        "plt.legend(['t','v'])\n",
        "plt.show()"
      ]
    },
    {
      "cell_type": "code",
      "execution_count": null,
      "metadata": {
        "id": "VxN3ptCspl_n"
      },
      "outputs": [],
      "source": []
    },
    {
      "cell_type": "markdown",
      "metadata": {
        "id": "Ejhbdm9Dpl_o"
      },
      "source": [
        "# DOWNSTREAM"
      ]
    },
    {
      "cell_type": "markdown",
      "metadata": {
        "id": "dbbwWRpfpl_o"
      },
      "source": [
        "## mODEL"
      ]
    },
    {
      "cell_type": "code",
      "execution_count": null,
      "metadata": {
        "id": "h_Wp1rU1pl_o"
      },
      "outputs": [],
      "source": [
        "class DSModel(nn.Module):\n",
        "    def __init__(self,premodel,num_classes):\n",
        "        super().__init__()\n",
        "\n",
        "        self.premodel = premodel\n",
        "\n",
        "        self.num_classes = num_classes\n",
        "\n",
        "        #TAKING OUTPUT FROM AN INTERMEDITATE LAYER\n",
        "        #PREPRAING THE TRUNCATED MODEL\n",
        "\n",
        "        for p in self.premodel.parameters():\n",
        "            p.requires_grad = False\n",
        "\n",
        "        for p in self.premodel.projector.parameters():\n",
        "            p.requires_grad = False\n",
        "\n",
        "\n",
        "        self.lastlayer = nn.Linear(2048,self.num_classes)\n",
        "\n",
        "\n",
        "\n",
        "    def forward(self,x):\n",
        "        out = self.premodel.pretrained(x)\n",
        "\n",
        "        out = self.lastlayer(out)\n",
        "        return out"
      ]
    },
    {
      "cell_type": "code",
      "execution_count": null,
      "metadata": {
        "id": "oXrsm4AJpl_o"
      },
      "outputs": [],
      "source": [
        "set_seed(16)\n",
        "dsmodel = DSModel(model, 10).to('cuda:0')"
      ]
    },
    {
      "cell_type": "code",
      "execution_count": null,
      "metadata": {
        "id": "Q1J07OQEpl_o"
      },
      "outputs": [],
      "source": []
    },
    {
      "cell_type": "markdown",
      "metadata": {
        "id": "LF-rnMvdpl_o"
      },
      "source": [
        "\n",
        "\n",
        "```\n",
        "# This is formatted as code\n",
        "```\n",
        "\n",
        "### DataGen"
      ]
    },
    {
      "cell_type": "code",
      "execution_count": null,
      "metadata": {
        "id": "jpfLwM3apl_p"
      },
      "outputs": [],
      "source": [
        "NUM_FRAMES = 16\n",
        "NUM_CLASSES = 10"
      ]
    },
    {
      "cell_type": "markdown",
      "metadata": {
        "id": "_yqAyDkz3yfJ"
      },
      "source": [
        "##### CIFAR 10"
      ]
    },
    {
      "cell_type": "code",
      "execution_count": null,
      "metadata": {
        "id": "-jZ5uHH33y73"
      },
      "outputs": [],
      "source": [
        "class DSDataGen(Dataset):\n",
        "    def __init__(self, phase, imgarr,labels,num_classes=NUM_CLASSES):\n",
        "\n",
        "        self.phase = phase\n",
        "        self.num_classes = num_classes\n",
        "        self.imgarr = imgarr\n",
        "        self.labels = labels\n",
        "\n",
        "        self.indices = list(range(self.imgarr.shape[0]))\n",
        "\n",
        "        self.randomcrop = transforms.RandomResizedCrop(32,(0.8,1.0))\n",
        "\n",
        "    def __len__(self):\n",
        "        return self.imgarr.shape[0]\n",
        "\n",
        "    def __getitem__(self,idx):\n",
        "\n",
        "        #DECLARE VARIABLES\n",
        "\n",
        "        x = self.imgarr[idx]\n",
        "\n",
        "        img = torch.from_numpy(x).float()\n",
        "\n",
        "        #GET CLIP FRAMES\n",
        "        #for i in range(4):\n",
        "        label = self.labels[idx]\n",
        "\n",
        "        #AUGMENT FRAMES\n",
        "        if self.phase == 'train':\n",
        "            img  = self.randomcrop(img)\n",
        "\n",
        "        img = self.preprocess(img)\n",
        "\n",
        "        return img, label\n",
        "\n",
        "    def on_epoch_end(self):\n",
        "        idx = random.sample(population = list(range(self.__len__())),k = self.__len__())\n",
        "        self.imgarr = self.imgarr[idx]\n",
        "        self.labels = self.labels[idx]\n",
        "\n",
        "    def preprocess(self,frame):\n",
        "        frame = frame / 255.0\n",
        "        frame = (frame-MEAN)/STD\n",
        "\n",
        "        return frame\n",
        "\n"
      ]
    },
    {
      "cell_type": "markdown",
      "metadata": {
        "id": "eMU6_6ZH45eQ"
      },
      "source": [
        "##### DATALOADERS"
      ]
    },
    {
      "cell_type": "code",
      "execution_count": null,
      "metadata": {
        "id": "nRmCSHLGpl_p"
      },
      "outputs": [],
      "source": [
        "dg = DSDataGen('train', trimages,trlabels,\n",
        "               batch_size=1, num_classes=NUM_CLASSES)\n",
        "\n",
        "dl = DataLoader(dg,batch_size = 32, drop_last = True)"
      ]
    },
    {
      "cell_type": "code",
      "execution_count": null,
      "metadata": {
        "id": "QPpdzzROpl_p"
      },
      "outputs": [],
      "source": [
        "vdg = DSDataGen('valid', valimages, vallabels,\n",
        "               batch_size=1,num_classes=NUM_CLASSES)\n",
        "\n",
        "vdl = DataLoader(vdg,batch_size = 32, drop_last = True)"
      ]
    },
    {
      "cell_type": "markdown",
      "metadata": {
        "id": "08AB0TF-pl_q"
      },
      "source": [
        "### LOSS weIGHTS"
      ]
    },
    {
      "cell_type": "code",
      "execution_count": null,
      "metadata": {
        "id": "fyr2NMaRpl_q"
      },
      "outputs": [],
      "source": [
        "dsoptimizer = torch.optim.SGD([params for params in dsmodel.parameters() if params.requires_grad],lr = 0.01, momentum = 0.9)\n",
        "\n",
        "#dsoptimizer = torch.optim.Adam([params for params in dsmodel.parameters() if params.requires_grad],lr=1e-5)\n",
        "\n",
        "lr_scheduler = torch.optim.lr_scheduler.StepLR(dsoptimizer, step_size=1, gamma=0.98, last_epoch=-1, verbose = True) #CosineAnnealingWarmRestarts(dsoptimizer,5,eta_min = 1e-6,last_epoch = -1, verbose = True)"
      ]
    },
    {
      "cell_type": "code",
      "execution_count": null,
      "metadata": {
        "id": "Prr0RWkxpl_q"
      },
      "outputs": [],
      "source": [
        "loss_fn = nn.CrossEntropyLoss()"
      ]
    },
    {
      "cell_type": "code",
      "execution_count": null,
      "metadata": {
        "id": "LtLyVVd6pl_q"
      },
      "outputs": [],
      "source": [
        "tr_ep_loss = []\n",
        "tr_ep_acc = []\n",
        "tr_ep_auc = []\n",
        "val_ep_loss = []\n",
        "val_ep_acc = []\n",
        "val_ep_auc = []\n",
        "\n",
        "min_val_loss = 100.0\n",
        "\n",
        "batch_size = 1\n",
        "EPOCHS = 10\n",
        "num_cl = 10\n",
        "accumulation_steps = 1"
      ]
    },
    {
      "cell_type": "code",
      "execution_count": null,
      "metadata": {
        "id": "hw2x1wXNpl_q",
        "scrolled": true
      },
      "outputs": [],
      "source": [
        "for epoch in range(20):\n",
        "\n",
        "    stime = time.time()\n",
        "    print(\"=============== Epoch : %3d ===============\"%(epoch+1))\n",
        "\n",
        "    loss_sublist = np.array([])\n",
        "    acc_sublist = np.array([])\n",
        "\n",
        "    #iter_num = 0\n",
        "    dsmodel.train()\n",
        "\n",
        "    dsoptimizer.zero_grad()\n",
        "\n",
        "    for x,y in dl:\n",
        "        x = x.squeeze().to(device = 'cuda:0', dtype = torch.float)\n",
        "        y = y.to(device = 'cuda:0')\n",
        "\n",
        "        z = dsmodel(x)\n",
        "\n",
        "        dsoptimizer.zero_grad()\n",
        "\n",
        "        tr_loss = loss_fn(z,y) #/accumulation_steps #y.to(dtype=torch.float), z)\n",
        "        tr_loss.backward()\n",
        "\n",
        "        preds = torch.exp(z.cpu().data)/torch.sum(torch.exp(z.cpu().data))\n",
        "\n",
        "        #if (iter_num+1)%accumulation_steps==0:\n",
        "        dsoptimizer.step()\n",
        "        #dsoptimizer.zero_grad()\n",
        "\n",
        "        loss_sublist = np.append(loss_sublist, tr_loss.cpu().data)\n",
        "        acc_sublist = np.append(acc_sublist,np.array(np.argmax(preds,axis=1)==y.cpu().data.view(-1)).astype('int'),axis=0)\n",
        "\n",
        "        #iter_num+=1\n",
        "\n",
        "    print('ESTIMATING TRAINING METRICS.............')\n",
        "\n",
        "    print('TRAINING BINARY CROSSENTROPY LOSS: ',np.mean(loss_sublist)*accumulation_steps)\n",
        "    print('TRAINING BINARY ACCURACY: ',np.mean(acc_sublist))\n",
        "    #print('TRAINING AUC SCORE: ',roc_auc_score(gt,preds))\n",
        "\n",
        "    tr_ep_loss.append(np.mean(loss_sublist))\n",
        "    tr_ep_acc.append(np.mean(acc_sublist))\n",
        "\n",
        "    #tr_ep_auc.append(roc_auc_score(gt, preds))\n",
        "\n",
        "\n",
        "\n",
        "    print('ESTIMATING VALIDATION METRICS.............')\n",
        "\n",
        "    dsmodel.eval()\n",
        "\n",
        "    loss_sublist = np.array([])\n",
        "    acc_sublist = np.array([])\n",
        "\n",
        "    with torch.no_grad():\n",
        "        for x,y in vdl:\n",
        "            x = x.squeeze().to(device = 'cuda:0', dtype = torch.float)\n",
        "            y = y.to(device = 'cuda:0')\n",
        "            z = dsmodel(x)\n",
        "\n",
        "            val_loss = loss_fn(z,y)\n",
        "\n",
        "            preds = torch.exp(z.cpu().data)/torch.sum(torch.exp(z.cpu().data))\n",
        "\n",
        "            loss_sublist = np.append(loss_sublist, val_loss.cpu().data)\n",
        "            acc_sublist = np.append(acc_sublist,np.array(np.argmax(preds,axis=1)==y.cpu().data.view(-1)).astype('int'),axis=0)\n",
        "\n",
        "\n",
        "    print('VALIDATION BINARY CROSSENTROPY LOSS: ',np.mean(loss_sublist))\n",
        "    print('VALIDATION BINARY ACCURACY: ',np.mean(acc_sublist))\n",
        "    #print('VALIDATION AUC SCORE: ',roc_auc_score(gt, preds))\n",
        "\n",
        "    val_ep_loss.append(np.mean(loss_sublist))\n",
        "    val_ep_acc.append(np.mean(acc_sublist))\n",
        "\n",
        "    #val_ep_auc.append(roc_auc_score(gt, preds))\n",
        "\n",
        "    lr_scheduler.step()\n",
        "\n",
        "    dg.on_epoch_end()\n",
        "\n",
        "    if np.mean(loss_sublist) <= min_val_loss:\n",
        "        min_val_loss = np.mean(loss_sublist)\n",
        "        print('Saving model...')\n",
        "        torch.save({'model_state_dict': dsmodel.state_dict(),\n",
        "                'optimizer_state_dict': dsoptimizer.state_dict()},\n",
        "               '/content/saved_models/cifar10_rn50_p128_sgd0p01_decay0p98_all_lincls_300621.pt')\n",
        "\n",
        "    print(\"Time Taken : %.2f minutes\"%((time.time()-stime)/60.0))"
      ]
    },
    {
      "cell_type": "code",
      "execution_count": null,
      "metadata": {
        "id": "JvOAcf8Spl_s"
      },
      "outputs": [],
      "source": [
        "plt.plot([t for t in tr_ep_acc])\n",
        "plt.plot([t for t in val_ep_acc])\n",
        "plt.legend(['train','valid'])"
      ]
    },
    {
      "cell_type": "code",
      "execution_count": null,
      "metadata": {
        "id": "XtjgIJbmpl_s"
      },
      "outputs": [],
      "source": [
        "plt.plot(tr_ep_loss)\n",
        "plt.plot(val_ep_loss)\n",
        "plt.legend(['train','valid'])"
      ]
    },
    {
      "cell_type": "code",
      "execution_count": null,
      "metadata": {
        "id": "3EafnbO9pl_s"
      },
      "outputs": [],
      "source": [
        "plt.plot([t for t in tr_ep_auc])\n",
        "plt.plot([t for t in val_ep_auc])\n",
        "plt.legend(['train','valid'])"
      ]
    },
    {
      "cell_type": "code",
      "execution_count": null,
      "metadata": {
        "id": "LvBasUGYQ6oZ"
      },
      "outputs": [],
      "source": [
        "tdg = DSDataGen('test', testimages, testlabels, num_classes=10)\n",
        "\n",
        "tdl = DataLoader(tdg, batch_size = 32, drop_last = True)\n",
        "\n",
        "dsmodel.eval()\n",
        "\n",
        "loss_sublist = np.array([])\n",
        "acc_sublist = np.array([])\n",
        "\n",
        "with torch.no_grad():\n",
        "    for x,y in vdl:\n",
        "        x = x.squeeze().to(device = 'cuda:0', dtype = torch.float)\n",
        "        y = y.to(device = 'cuda:0')\n",
        "        z = dsmodel(x)\n",
        "\n",
        "        val_loss = loss_fn(z,y)\n",
        "\n",
        "        preds = torch.exp(z.cpu().data)/torch.sum(torch.exp(z.cpu().data))\n",
        "\n",
        "        loss_sublist = np.append(loss_sublist, val_loss.cpu().data)\n",
        "        acc_sublist = np.append(acc_sublist,np.array(np.argmax(preds,axis=1)==y.cpu().data.view(-1)).astype('int'),axis=0)\n",
        "\n",
        "print('TEST BINARY CROSSENTROPY LOSS: ',np.mean(loss_sublist))\n",
        "print('TEST BINARY ACCURACY: ',np.mean(acc_sublist))"
      ]
    },
    {
      "cell_type": "markdown",
      "metadata": {
        "id": "Pzwt5OU24G_8"
      },
      "source": []
    }
  ],
  "metadata": {
    "accelerator": "GPU",
    "colab": {
      "gpuType": "T4",
      "toc_visible": true,
      "provenance": []
    },
    "kernelspec": {
      "display_name": "Python 3",
      "name": "python3"
    },
    "language_info": {
      "codemirror_mode": {
        "name": "ipython",
        "version": 3
      },
      "file_extension": ".py",
      "mimetype": "text/x-python",
      "name": "python",
      "nbconvert_exporter": "python",
      "pygments_lexer": "ipython3",
      "version": "3.8.5"
    },
    "toc": {
      "base_numbering": 1,
      "nav_menu": {
        "height": "625px",
        "width": "382px"
      },
      "number_sections": true,
      "sideBar": true,
      "skip_h1_title": false,
      "title_cell": "Table of Contents",
      "title_sidebar": "Contents",
      "toc_cell": false,
      "toc_position": {},
      "toc_section_display": true,
      "toc_window_display": false
    },
    "varInspector": {
      "cols": {
        "lenName": 16,
        "lenType": 16,
        "lenVar": 40
      },
      "kernels_config": {
        "python": {
          "delete_cmd_postfix": "",
          "delete_cmd_prefix": "del ",
          "library": "var_list.py",
          "varRefreshCmd": "print(var_dic_list())"
        },
        "r": {
          "delete_cmd_postfix": ") ",
          "delete_cmd_prefix": "rm(",
          "library": "var_list.r",
          "varRefreshCmd": "cat(var_dic_list()) "
        }
      },
      "types_to_exclude": [
        "module",
        "function",
        "builtin_function_or_method",
        "instance",
        "_Feature"
      ],
      "window_display": false
    }
  },
  "nbformat": 4,
  "nbformat_minor": 0
}